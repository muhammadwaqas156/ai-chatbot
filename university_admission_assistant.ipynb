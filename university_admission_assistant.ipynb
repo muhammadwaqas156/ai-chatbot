{
 "cells": [
  {
   "cell_type": "code",
   "execution_count": null,
   "id": "2519423f",
   "metadata": {},
   "outputs": [],
   "source": [
    "\n",
    "!pip install transformers accelerate gradio\n"
   ]
  },
  {
   "cell_type": "code",
   "execution_count": null,
   "id": "22c357ba",
   "metadata": {},
   "outputs": [],
   "source": [
    "\n",
    "import torch\n",
    "from transformers import AutoModelForCausalLM, AutoTokenizer\n",
    "import gradio as gr\n",
    "\n",
    "model_name = \"HuggingFaceH4/zephyr-7b-alpha\"\n",
    "\n",
    "tokenizer = AutoTokenizer.from_pretrained(model_name)\n",
    "model = AutoModelForCausalLM.from_pretrained(model_name, torch_dtype=torch.float16, device_map=\"auto\")\n"
   ]
  },
  {
   "cell_type": "code",
   "execution_count": null,
   "id": "e3374eeb",
   "metadata": {},
   "outputs": [],
   "source": [
    "def chat_with_admission_bot(user_input, history=[]):\n",
    "    system_instruction = (\n",
    "        \"You are a helpful and friendly university admissions assistant. \"\n",
    "        \"Provide concise, polite, and informative answers related to university \"\n",
    "        \"applications, courses, fees, scholarships, deadlines, and the admissions process.\"\n",
    "    )\n",
    "    \n",
    "    full_prompt = f\"\"\"{system_instruction}\n",
    "User: {user_input}\n",
    "Assistant:\"\"\"\n",
    "\n",
    "    inputs = tokenizer(full_prompt, return_tensors=\"pt\").input_ids.to(\"cuda\")\n",
    "    outputs = model.generate(inputs, max_new_tokens=200, temperature=0.7, do_sample=True)\n",
    "    response = tokenizer.decode(outputs[0], skip_special_tokens=True)\n",
    "\n",
    "    return response.split(\"Assistant:\")[-1].strip()"
   ]
  },
  {
   "cell_type": "code",
   "execution_count": null,
   "id": "ed1d5879",
   "metadata": {},
   "outputs": [],
   "source": [
    "\n",
    "interface = gr.Interface(\n",
    "    fn=chat_with_admission_bot,\n",
    "    inputs=\"text\",\n",
    "    outputs=\"text\",\n",
    "    title=\"University Admission Assistant\",\n",
    "    description=\"Ask anything about university applications, courses, tuition fees, deadlines, scholarships, and more.\",\n",
    ")\n",
    "\n",
    "interface.launch()\n"
   ]
  }
 ],
 "metadata": {
  "language_info": {
   "name": "python"
  }
 },
 "nbformat": 4,
 "nbformat_minor": 5
}
